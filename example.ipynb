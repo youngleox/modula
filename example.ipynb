{
 "cells": [
  {
   "cell_type": "code",
   "execution_count": 1,
   "id": "7a843bc1-9f5d-4c10-847d-6fb6959703c9",
   "metadata": {},
   "outputs": [],
   "source": [
    "import math\n",
    "import torch"
   ]
  },
  {
   "cell_type": "markdown",
   "id": "effee239-ebcd-4989-8745-b1e23d804e58",
   "metadata": {},
   "source": [
    "### Create some fake data to fit"
   ]
  },
  {
   "cell_type": "code",
   "execution_count": 2,
   "id": "f1be0780-fa8c-4d23-88ed-64cf21cb80a2",
   "metadata": {},
   "outputs": [],
   "source": [
    "batch_size = 400\n",
    "input_dim = 200\n",
    "output_dim = 10\n",
    "\n",
    "x = torch.randn(batch_size, input_dim).cuda()\n",
    "y = torch.randn(batch_size, output_dim).cuda()"
   ]
  },
  {
   "cell_type": "markdown",
   "id": "cdb9b43a-288f-44a5-a3c3-ab4aa21c799d",
   "metadata": {},
   "source": [
    "### Construct residual-MLP module"
   ]
  },
  {
   "cell_type": "code",
   "execution_count": 3,
   "id": "a20fbc5f-c138-4aad-8e05-ae757377ad53",
   "metadata": {},
   "outputs": [
    {
     "name": "stdout",
     "output_type": "stream",
     "text": [
      "Module of mass 22 and sensitivity 1.0.\n"
     ]
    }
   ],
   "source": [
    "block_depth = 2\n",
    "num_blocks = 10\n",
    "width = 100\n",
    "\n",
    "from module.atomic import Identity, Linear, ScaledReLU\n",
    "\n",
    "# create residual block\n",
    "residue = Linear(width, width) @ ScaledReLU()\n",
    "residue = residue ** block_depth\n",
    "block = (1-1/num_blocks) * Identity() + 1/num_blocks * residue\n",
    "\n",
    "# create whole network\n",
    "first_layer = Linear(width, input_dim)\n",
    "last_layer = Linear(output_dim, width)\n",
    "net = last_layer @ block ** num_blocks @ first_layer\n",
    "\n",
    "print(net)"
   ]
  },
  {
   "cell_type": "markdown",
   "id": "2fb52636-6dd1-490d-80ee-7489e4a940ff",
   "metadata": {},
   "source": [
    "### Run modular gradient descent"
   ]
  },
  {
   "cell_type": "code",
   "execution_count": 4,
   "id": "dbd5137a-3d28-48f4-b15b-a29c49b9b6fe",
   "metadata": {
    "scrolled": true
   },
   "outputs": [
    {
     "data": {
      "application/vnd.jupyter.widget-view+json": {
       "model_id": "415e0726c3d34027b052a313f9a82cec",
       "version_major": 2,
       "version_minor": 0
      },
      "text/plain": [
       "  0%|          | 0/1000 [00:00<?, ?it/s]"
      ]
     },
     "metadata": {},
     "output_type": "display_data"
    },
    {
     "name": "stdout",
     "output_type": "stream",
     "text": [
      "Final loss: 1.1355193407780462e-07\n"
     ]
    }
   ],
   "source": [
    "init_lr = 0.5\n",
    "beta = 0.9\n",
    "wd = 0.01\n",
    "steps = 1000\n",
    "\n",
    "net.initialize(device=\"cuda\")\n",
    "\n",
    "from tqdm.auto import trange\n",
    "for i in (pbar := trange(steps)):\n",
    "    out = net.forward(x)\n",
    "    loss = (out-y).square().mean()\n",
    "    loss.backward()\n",
    "        \n",
    "    net.update(init_lr * (1 - i / steps), beta, wd)\n",
    "                \n",
    "    pbar.set_description(f\"loss: {loss.item():.4f}\")\n",
    "\n",
    "print(f\"Final loss: {loss.item()}\")"
   ]
  }
 ],
 "metadata": {
  "kernelspec": {
   "display_name": "Python 3 (ipykernel)",
   "language": "python",
   "name": "python3"
  },
  "language_info": {
   "codemirror_mode": {
    "name": "ipython",
    "version": 3
   },
   "file_extension": ".py",
   "mimetype": "text/x-python",
   "name": "python",
   "nbconvert_exporter": "python",
   "pygments_lexer": "ipython3",
   "version": "3.9.16"
  }
 },
 "nbformat": 4,
 "nbformat_minor": 5
}
